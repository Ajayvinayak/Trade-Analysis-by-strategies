{
  "nbformat": 4,
  "nbformat_minor": 0,
  "metadata": {
    "colab": {
      "provenance": []
    },
    "kernelspec": {
      "name": "python3",
      "display_name": "Python 3"
    },
    "language_info": {
      "name": "python"
    }
  },
  "cells": [
    {
      "cell_type": "code",
      "execution_count": 1,
      "metadata": {
        "colab": {
          "base_uri": "https://localhost:8080/"
        },
        "id": "GOlYcZbMmjfO",
        "outputId": "8d776493-5525-47c3-8016-c10fe7872a60"
      },
      "outputs": [
        {
          "output_type": "stream",
          "name": "stdout",
          "text": [
            "<class 'pandas.core.frame.DataFrame'>\n",
            "RangeIndex: 126117 entries, 0 to 126116\n",
            "Data columns (total 7 columns):\n",
            " #   Column       Non-Null Count   Dtype  \n",
            "---  ------       --------------   -----  \n",
            " 0   Unnamed: 0   126117 non-null  int64  \n",
            " 1   currentdate  126117 non-null  object \n",
            " 2   currenttime  126117 non-null  object \n",
            " 3   high         126117 non-null  float64\n",
            " 4   low          126117 non-null  float64\n",
            " 5   close        126117 non-null  float64\n",
            " 6   symbol       126117 non-null  object \n",
            "dtypes: float64(3), int64(1), object(3)\n",
            "memory usage: 6.7+ MB\n"
          ]
        },
        {
          "output_type": "execute_result",
          "data": {
            "text/plain": [
              "(   Unnamed: 0 currentdate currenttime    high     low   close    symbol\n",
              " 0           0    1/1/2024     9:15:00  654.35  648.35  654.35  AARTIIND\n",
              " 1           1    1/1/2024     9:20:00  654.75  652.10  653.00  AARTIIND\n",
              " 2           2    1/1/2024     9:25:00  653.35  651.00  652.80  AARTIIND\n",
              " 3           3    1/1/2024     9:30:00  652.95  651.10  652.45  AARTIIND\n",
              " 4           4    1/1/2024     9:35:00  654.00  652.50  653.75  AARTIIND,\n",
              " None)"
            ]
          },
          "metadata": {},
          "execution_count": 1
        }
      ],
      "source": [
        "import pandas as pd\n",
        "\n",
        "# Load the uploaded market data CSV\n",
        "file_path = \"market_data.csv\"\n",
        "df = pd.read_csv(file_path)\n",
        "\n",
        "# Display the first few rows and info for inspection\n",
        "df.head(), df.info()\n"
      ]
    },
    {
      "cell_type": "code",
      "source": [
        "import pandas as pd\n",
        "import numpy as np\n",
        "\n",
        "# Load the dataset\n",
        "df = pd.read_csv(\"market_data.csv\")  # Replace with your file path if needed\n",
        "\n",
        "# Parse dates correctly (format is MM/DD/YYYY)\n",
        "df['currentdate'] = pd.to_datetime(df['currentdate'], format='%m/%d/%Y')\n",
        "df['datetime'] = pd.to_datetime(df['currentdate'].astype(str) + ' ' + df['currenttime'])\n",
        "df.sort_values(by=['symbol', 'datetime'], inplace=True)\n",
        "\n",
        "# ORB strategy settings\n",
        "TARGET_PCT = 0.005    # +0.5%\n",
        "STOP_LOSS_PCT = 0.0025  # -0.25%\n",
        "EXIT_TIME = \"15:15:00\"\n",
        "\n",
        "# Store trades\n",
        "trade_logs = []\n",
        "\n",
        "# Group by symbol and date\n",
        "for (symbol, date), group in df.groupby(['symbol', 'currentdate']):\n",
        "    group = group.sort_values(by='datetime').reset_index(drop=True)\n",
        "\n",
        "    first_candle = group[group['currenttime'] == '9:15:00']\n",
        "    if first_candle.empty:\n",
        "        continue\n",
        "\n",
        "    high_open = first_candle.iloc[0]['high']\n",
        "    low_open = first_candle.iloc[0]['low']\n",
        "\n",
        "    buy_made = False\n",
        "    sell_made = False\n",
        "\n",
        "    for i, row in group.iterrows():\n",
        "        price = row['close']\n",
        "        dt = row['datetime']\n",
        "        time = row['currenttime']\n",
        "\n",
        "        # Buy logic\n",
        "        if not buy_made and price > high_open:\n",
        "            entry_price = price\n",
        "            target_price = entry_price * (1 + TARGET_PCT)\n",
        "            sl_price = entry_price * (1 - STOP_LOSS_PCT)\n",
        "\n",
        "            for j in range(i + 1, len(group)):\n",
        "                next_row = group.iloc[j]\n",
        "                next_price = next_row['close']\n",
        "                next_dt = next_row['datetime']\n",
        "                next_time = next_row['currenttime']\n",
        "\n",
        "                if next_price >= target_price:\n",
        "                    trade_logs.append([date, symbol, \"Buy\", dt.time(), entry_price, next_dt.time(), next_price, next_price - entry_price, \"Target Hit\"])\n",
        "                    break\n",
        "                elif next_price <= sl_price:\n",
        "                    trade_logs.append([date, symbol, \"Buy\", dt.time(), entry_price, next_dt.time(), next_price, next_price - entry_price, \"Stop Loss Hit\"])\n",
        "                    break\n",
        "                elif next_time == EXIT_TIME:\n",
        "                    trade_logs.append([date, symbol, \"Buy\", dt.time(), entry_price, next_dt.time(), next_price, next_price - entry_price, \"Time Exit\"])\n",
        "                    break\n",
        "            buy_made = True\n",
        "\n",
        "        # Sell logic\n",
        "        if not sell_made and price < low_open:\n",
        "            entry_price = price\n",
        "            target_price = entry_price * (1 - TARGET_PCT)\n",
        "            sl_price = entry_price * (1 + STOP_LOSS_PCT)\n",
        "\n",
        "            for j in range(i + 1, len(group)):\n",
        "                next_row = group.iloc[j]\n",
        "                next_price = next_row['close']\n",
        "                next_dt = next_row['datetime']\n",
        "                next_time = next_row['currenttime']\n",
        "\n",
        "                if next_price <= target_price:\n",
        "                    trade_logs.append([date, symbol, \"Sell\", dt.time(), entry_price, next_dt.time(), next_price, entry_price - next_price, \"Target Hit\"])\n",
        "                    break\n",
        "                elif next_price >= sl_price:\n",
        "                    trade_logs.append([date, symbol, \"Sell\", dt.time(), entry_price, next_dt.time(), next_price, entry_price - next_price, \"Stop Loss Hit\"])\n",
        "                    break\n",
        "                elif next_time == EXIT_TIME:\n",
        "                    trade_logs.append([date, symbol, \"Sell\", dt.time(), entry_price, next_dt.time(), next_price, entry_price - next_price, \"Time Exit\"])\n",
        "                    break\n",
        "            sell_made = True\n",
        "\n",
        "# Create DataFrame for results\n",
        "columns = [\"Date\", \"Symbol\", \"TradeType\", \"EntryTime\", \"EntryPrice\", \"ExitTime\", \"ExitPrice\", \"PnL\", \"ExitReason\"]\n",
        "trades_df = pd.DataFrame(trade_logs, columns=columns)\n",
        "\n",
        "# ✅ Display the first few trades\n",
        "print(\"ORB Strategy Trade Log:\\n\")\n",
        "print(trades_df.head(10))  # Show first 10 trades\n"
      ],
      "metadata": {
        "colab": {
          "base_uri": "https://localhost:8080/"
        },
        "id": "Klg31XErpErH",
        "outputId": "8cc206cf-d717-4a4b-9ebe-67b17c54d41a"
      },
      "execution_count": 7,
      "outputs": [
        {
          "output_type": "stream",
          "name": "stdout",
          "text": [
            "ORB Strategy Trade Log:\n",
            "\n",
            "        Date    Symbol TradeType EntryTime  EntryPrice  ExitTime  ExitPrice  \\\n",
            "0 2024-01-01  AARTIIND       Buy  09:45:00      655.05  09:55:00     653.00   \n",
            "1 2024-01-02  AARTIIND       Buy  09:30:00      658.10  09:50:00     655.55   \n",
            "2 2024-01-02  AARTIIND      Sell  09:55:00      651.70  10:25:00     646.80   \n",
            "3 2024-01-03  AARTIIND      Sell  09:35:00      647.90  09:50:00     649.75   \n",
            "4 2024-01-04  AARTIIND      Sell  09:25:00      649.85  09:40:00     652.30   \n",
            "5 2024-01-05  AARTIIND      Sell  09:25:00      644.95  09:40:00     646.85   \n",
            "6 2024-01-08  AARTIIND      Sell  09:25:00      611.80  09:30:00     608.50   \n",
            "7 2024-01-09  AARTIIND      Sell  09:40:00      599.90  09:45:00     601.75   \n",
            "8 2024-01-10  AARTIIND      Sell  09:20:00      601.60  09:30:00     603.50   \n",
            "9 2024-01-11  AARTIIND       Buy  09:40:00      612.25  10:10:00     615.80   \n",
            "\n",
            "    PnL     ExitReason  \n",
            "0 -2.05  Stop Loss Hit  \n",
            "1 -2.55  Stop Loss Hit  \n",
            "2  4.90     Target Hit  \n",
            "3 -1.85  Stop Loss Hit  \n",
            "4 -2.45  Stop Loss Hit  \n",
            "5 -1.90  Stop Loss Hit  \n",
            "6  3.30     Target Hit  \n",
            "7 -1.85  Stop Loss Hit  \n",
            "8 -1.90  Stop Loss Hit  \n",
            "9  3.55     Target Hit  \n"
          ]
        }
      ]
    },
    {
      "cell_type": "code",
      "source": [
        "trades_df.to_csv(\"orb_trade_log.csv\", index=False)\n"
      ],
      "metadata": {
        "id": "tVLiIHr1pFdn"
      },
      "execution_count": 8,
      "outputs": []
    }
  ]
}